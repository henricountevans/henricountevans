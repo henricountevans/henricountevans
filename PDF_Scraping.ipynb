{
  "nbformat": 4,
  "nbformat_minor": 0,
  "metadata": {
    "colab": {
      "provenance": [],
      "authorship_tag": "ABX9TyMoijGi3N3sb78JaTaRF2Bw",
      "include_colab_link": true
    },
    "kernelspec": {
      "name": "python3",
      "display_name": "Python 3"
    },
    "language_info": {
      "name": "python"
    }
  },
  "cells": [
    {
      "cell_type": "markdown",
      "metadata": {
        "id": "view-in-github",
        "colab_type": "text"
      },
      "source": [
        "<a href=\"https://colab.research.google.com/github/henricountevans/henricountevans/blob/main/PDF_Scraping.ipynb\" target=\"_parent\"><img src=\"https://colab.research.google.com/assets/colab-badge.svg\" alt=\"Open In Colab\"/></a>"
      ]
    },
    {
      "cell_type": "code",
      "execution_count": null,
      "metadata": {
        "id": "kTidEF7iPytd"
      },
      "outputs": [],
      "source": [
        "# Import necessary libraries\n",
        "import tabula\n",
        "import pandas as pd\n",
        "import os\n",
        "\n",
        "# Define the PDF file path\n",
        "pdf_path = \"output_dir\"\n",
        "\n",
        "# Extract tables from the PDF\n",
        "tables = tabula.read_pdf(pdf_path, pages=\"all\", multiple_tables=True)\n",
        "\n",
        "# Create a directory to store the extracted tables (if it doesn't exist)\n",
        "output_dir = \"output_dir\"\n",
        "if not os.path.exists(output_dir):\n",
        "    os.makedirs(output_dir)\n",
        "\n",
        "# Process and store each table as a pandas DataFrame\n",
        "for i, table in enumerate(tables):\n",
        "    df = pd.DataFrame(table)\n",
        "\n",
        "    # ... (Optional data cleaning or manipulation) ...\n",
        "\n",
        "    # Generate output file path\n",
        "    output_file = os.path.join(output_dir, f\"table_{i+1}.csv\")\n",
        "    df.to_csv(output_file, index=False)\n",
        "\n",
        "print(f\"Extracted {len(tables)} tables to the '{output_dir}' directory.\")"
      ]
    }
  ]
}